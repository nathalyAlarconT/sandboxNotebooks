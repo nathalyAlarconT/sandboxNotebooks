{
 "cells": [
  {
   "cell_type": "code",
   "execution_count": 1,
   "metadata": {},
   "outputs": [],
   "source": [
    "import pandas as pd"
   ]
  },
  {
   "cell_type": "code",
   "execution_count": 2,
   "metadata": {},
   "outputs": [
    {
     "data": {
      "text/html": [
       "<script>requirejs.config({paths: { 'plotly': ['https://cdn.plot.ly/plotly-latest.min']},});if(!window.Plotly) {{require(['plotly'],function(plotly) {window.Plotly=plotly;});}}</script>"
      ],
      "text/vnd.plotly.v1+html": [
       "<script>requirejs.config({paths: { 'plotly': ['https://cdn.plot.ly/plotly-latest.min']},});if(!window.Plotly) {{require(['plotly'],function(plotly) {window.Plotly=plotly;});}}</script>"
      ]
     },
     "metadata": {},
     "output_type": "display_data"
    }
   ],
   "source": [
    "from plotly.offline import download_plotlyjs, init_notebook_mode, plot, iplot\n",
    "init_notebook_mode(connected=True)\n",
    "import plotly.graph_objs as go"
   ]
  },
  {
   "cell_type": "code",
   "execution_count": 3,
   "metadata": {},
   "outputs": [],
   "source": [
    "% matplotlib inline"
   ]
  },
  {
   "cell_type": "code",
   "execution_count": 4,
   "metadata": {},
   "outputs": [],
   "source": [
    "filename = 'billboard_lyrics_1964-2015.csv'\n",
    "df = pd.read_csv(filename, encoding='latin-1' )"
   ]
  },
  {
   "cell_type": "code",
   "execution_count": 5,
   "metadata": {},
   "outputs": [
    {
     "data": {
      "text/html": [
       "<div>\n",
       "<style scoped>\n",
       "    .dataframe tbody tr th:only-of-type {\n",
       "        vertical-align: middle;\n",
       "    }\n",
       "\n",
       "    .dataframe tbody tr th {\n",
       "        vertical-align: top;\n",
       "    }\n",
       "\n",
       "    .dataframe thead th {\n",
       "        text-align: right;\n",
       "    }\n",
       "</style>\n",
       "<table border=\"1\" class=\"dataframe\">\n",
       "  <thead>\n",
       "    <tr style=\"text-align: right;\">\n",
       "      <th></th>\n",
       "      <th>Rank</th>\n",
       "      <th>Song</th>\n",
       "      <th>Artist</th>\n",
       "      <th>Year</th>\n",
       "      <th>Lyrics</th>\n",
       "      <th>Source</th>\n",
       "    </tr>\n",
       "  </thead>\n",
       "  <tbody>\n",
       "    <tr>\n",
       "      <th>0</th>\n",
       "      <td>1</td>\n",
       "      <td>wooly bully</td>\n",
       "      <td>sam the sham and the pharaohs</td>\n",
       "      <td>1965</td>\n",
       "      <td>sam the sham miscellaneous wooly bully wooly b...</td>\n",
       "      <td>3.0</td>\n",
       "    </tr>\n",
       "    <tr>\n",
       "      <th>1</th>\n",
       "      <td>2</td>\n",
       "      <td>i cant help myself sugar pie honey bunch</td>\n",
       "      <td>four tops</td>\n",
       "      <td>1965</td>\n",
       "      <td>sugar pie honey bunch you know that i love yo...</td>\n",
       "      <td>1.0</td>\n",
       "    </tr>\n",
       "    <tr>\n",
       "      <th>2</th>\n",
       "      <td>3</td>\n",
       "      <td>i cant get no satisfaction</td>\n",
       "      <td>the rolling stones</td>\n",
       "      <td>1965</td>\n",
       "      <td></td>\n",
       "      <td>1.0</td>\n",
       "    </tr>\n",
       "    <tr>\n",
       "      <th>3</th>\n",
       "      <td>4</td>\n",
       "      <td>you were on my mind</td>\n",
       "      <td>we five</td>\n",
       "      <td>1965</td>\n",
       "      <td>when i woke up this morning you were on my mi...</td>\n",
       "      <td>1.0</td>\n",
       "    </tr>\n",
       "    <tr>\n",
       "      <th>4</th>\n",
       "      <td>5</td>\n",
       "      <td>youve lost that lovin feelin</td>\n",
       "      <td>the righteous brothers</td>\n",
       "      <td>1965</td>\n",
       "      <td>you never close your eyes anymore when i kiss...</td>\n",
       "      <td>1.0</td>\n",
       "    </tr>\n",
       "  </tbody>\n",
       "</table>\n",
       "</div>"
      ],
      "text/plain": [
       "   Rank                                      Song  \\\n",
       "0     1                               wooly bully   \n",
       "1     2  i cant help myself sugar pie honey bunch   \n",
       "2     3                i cant get no satisfaction   \n",
       "3     4                       you were on my mind   \n",
       "4     5              youve lost that lovin feelin   \n",
       "\n",
       "                          Artist  Year  \\\n",
       "0  sam the sham and the pharaohs  1965   \n",
       "1                      four tops  1965   \n",
       "2             the rolling stones  1965   \n",
       "3                        we five  1965   \n",
       "4         the righteous brothers  1965   \n",
       "\n",
       "                                              Lyrics  Source  \n",
       "0  sam the sham miscellaneous wooly bully wooly b...     3.0  \n",
       "1   sugar pie honey bunch you know that i love yo...     1.0  \n",
       "2                                                        1.0  \n",
       "3   when i woke up this morning you were on my mi...     1.0  \n",
       "4   you never close your eyes anymore when i kiss...     1.0  "
      ]
     },
     "execution_count": 5,
     "metadata": {},
     "output_type": "execute_result"
    }
   ],
   "source": [
    "df.head()"
   ]
  },
  {
   "cell_type": "code",
   "execution_count": 6,
   "metadata": {},
   "outputs": [
    {
     "data": {
      "text/plain": [
       "Rank        int64\n",
       "Song       object\n",
       "Artist     object\n",
       "Year        int64\n",
       "Lyrics     object\n",
       "Source    float64\n",
       "dtype: object"
      ]
     },
     "execution_count": 6,
     "metadata": {},
     "output_type": "execute_result"
    }
   ],
   "source": [
    "df.dtypes"
   ]
  },
  {
   "cell_type": "code",
   "execution_count": 7,
   "metadata": {},
   "outputs": [
    {
     "data": {
      "text/plain": [
       "(5100, 6)"
      ]
     },
     "execution_count": 7,
     "metadata": {},
     "output_type": "execute_result"
    }
   ],
   "source": [
    "df.shape"
   ]
  },
  {
   "cell_type": "code",
   "execution_count": 8,
   "metadata": {},
   "outputs": [
    {
     "name": "stdout",
     "output_type": "stream",
     "text": [
      "2473\n"
     ]
    },
    {
     "data": {
      "text/plain": [
       "madonna                                      35\n",
       "elton john                                   26\n",
       "mariah carey                                 25\n",
       "michael jackson                              22\n",
       "stevie wonder                                22\n",
       "janet jackson                                22\n",
       "taylor swift                                 19\n",
       "whitney houston                              19\n",
       "rihanna                                      19\n",
       "kelly clarkson                               17\n",
       "the beatles                                  17\n",
       "pink                                         17\n",
       "britney spears                               16\n",
       "the black eyed peas                          16\n",
       "chicago                                      15\n",
       "aretha franklin                              14\n",
       "rod stewart                                  14\n",
       "usher                                        14\n",
       "katy perry                                   14\n",
       "boyz ii men                                  13\n",
       "kool  the gang                               13\n",
       "the rolling stones                           13\n",
       "phil collins                                 13\n",
       "maroon 5                                     13\n",
       "r kelly                                      13\n",
       "beyonce                                      12\n",
       "neil diamond                                 12\n",
       "the temptations                              12\n",
       "billy joel                                   12\n",
       "olivia newtonjohn                            12\n",
       "                                             ..\n",
       "rihanna featuring chris brown                 1\n",
       "sailcat                                       1\n",
       "nicki minaj featuring drake and lil wayne     1\n",
       "lil flip                                      1\n",
       "gym class heroes featuring neon hitch         1\n",
       "tpain featuring lil wayne                     1\n",
       "santana featuring the product gb              1\n",
       "dev                                           1\n",
       "ame lorain                                    1\n",
       "alive n kickin                                1\n",
       "manfred manns earth band                      1\n",
       "marmalade                                     1\n",
       "the pussycat dolls featuring busta rhymes     1\n",
       "charlie daniels band                          1\n",
       "bobby caldwell                                1\n",
       "bobby womack                                  1\n",
       "shawn mullins                                 1\n",
       "bobby vee                                     1\n",
       "marcy playground                              1\n",
       "justin bieber featuring big sean              1\n",
       "2pac featuring eric williams                  1\n",
       "dr dre featuring eminem and skylar grey       1\n",
       "rihanna featuring jeezy                       1\n",
       "frankie j                                     1\n",
       "michael damian                                1\n",
       "jive bunny and the mastermixers               1\n",
       "skylark                                       1\n",
       "james ingram and michael mcdonald             1\n",
       "robin thicke featuring ti and pharrell        1\n",
       "bob                                           1\n",
       "Name: Artist, Length: 2473, dtype: int64"
      ]
     },
     "execution_count": 8,
     "metadata": {},
     "output_type": "execute_result"
    }
   ],
   "source": [
    "print(df['Artist'].nunique())\n",
    "df['Artist'].value_counts()"
   ]
  },
  {
   "cell_type": "code",
   "execution_count": 9,
   "metadata": {},
   "outputs": [
    {
     "data": {
      "text/plain": [
       "<matplotlib.axes._subplots.AxesSubplot at 0x7f0790980f60>"
      ]
     },
     "execution_count": 9,
     "metadata": {},
     "output_type": "execute_result"
    },
    {
     "data": {
      "image/png": "[encoded data removed]",
      "text/plain": [
       "<matplotlib.figure.Figure at 0x7f0791a6ba20>"
      ]
     },
     "metadata": {},
     "output_type": "display_data"
    }
   ],
   "source": [
    "df['Artist'].value_counts()[:30].plot('bar')"
   ]
  },
  {
   "cell_type": "code",
   "execution_count": 10,
   "metadata": {},
   "outputs": [
    {
     "data": {
      "text/html": [
       "<div>\n",
       "<style scoped>\n",
       "    .dataframe tbody tr th:only-of-type {\n",
       "        vertical-align: middle;\n",
       "    }\n",
       "\n",
       "    .dataframe tbody tr th {\n",
       "        vertical-align: top;\n",
       "    }\n",
       "\n",
       "    .dataframe thead th {\n",
       "        text-align: right;\n",
       "    }\n",
       "</style>\n",
       "<table border=\"1\" class=\"dataframe\">\n",
       "  <thead>\n",
       "    <tr style=\"text-align: right;\">\n",
       "      <th></th>\n",
       "      <th>Rank</th>\n",
       "      <th>Song</th>\n",
       "      <th>Artist</th>\n",
       "      <th>Year</th>\n",
       "      <th>Lyrics</th>\n",
       "      <th>Source</th>\n",
       "    </tr>\n",
       "  </thead>\n",
       "  <tbody>\n",
       "    <tr>\n",
       "      <th>4015</th>\n",
       "      <td>16</td>\n",
       "      <td>mr brightside</td>\n",
       "      <td>the killers</td>\n",
       "      <td>2005</td>\n",
       "      <td>coming out of my cage and ive been doing just...</td>\n",
       "      <td>1.0</td>\n",
       "    </tr>\n",
       "  </tbody>\n",
       "</table>\n",
       "</div>"
      ],
      "text/plain": [
       "      Rank           Song       Artist  Year  \\\n",
       "4015    16  mr brightside  the killers  2005   \n",
       "\n",
       "                                                 Lyrics  Source  \n",
       "4015   coming out of my cage and ive been doing just...     1.0  "
      ]
     },
     "execution_count": 10,
     "metadata": {},
     "output_type": "execute_result"
    }
   ],
   "source": [
    "artist_name = 'the killers'\n",
    "artistSongs = df[df['Artist'] == artist_name]\n",
    "artistSongs"
   ]
  },
  {
   "cell_type": "code",
   "execution_count": 11,
   "metadata": {},
   "outputs": [
    {
     "data": {
      "text/plain": [
       "' coming out of my cage and ive been doing just fine gotta gotta be down because i want it all it started out with a kiss how did it end up like this it was only a kiss it was only a kiss now im falling asleep and shes calling a cab while hes having a smoke and shes taking a drag now theyre going to bed and my stomach is sick and its all in my head but shes touching his chest now he takes off her dress now letting me go    memory  byamandah   editor    have you guys seen this after the passing of an outstanding gent by the name of ger farmer foley in county kerry ireland his friends gathered at a pub and    see all   i just cant look its killing me and taking control jealousy turning saints into the sea swimming through sick lullabies choking on your alibis but its just the price i pay destiny is calling me open up my eager eyes cause im mr brightsideim coming out of my cage and ive been doing just fine gotta gotta be down because i want it all it started out with a kiss how did it end up like this it was only a kiss it was only a kiss now im falling asleep and shes calling a cab while hes having a smoke and shes taking a drag now theyre going to bed and my stomach is sick and its all in my head but shes touching his chest now he takes off her dress now letting me gocause i just cant look its killing me and taking control jealousy turning saints into the sea swimming through sick lullabies choking on your alibi but its just the price i pay destiny is calling me open up my eager eyes cause im mr brightside i never i never i never i never '"
      ]
     },
     "execution_count": 11,
     "metadata": {},
     "output_type": "execute_result"
    }
   ],
   "source": [
    "my_song = str(artistSongs['Lyrics'].values[0])\n",
    "my_song"
   ]
  },
  {
   "cell_type": "markdown",
   "metadata": {},
   "source": [
    "### NLTK"
   ]
  },
  {
   "cell_type": "code",
   "execution_count": 12,
   "metadata": {},
   "outputs": [],
   "source": [
    "import nltk\n",
    "from nltk import FreqDist"
   ]
  },
  {
   "cell_type": "code",
   "execution_count": 13,
   "metadata": {},
   "outputs": [
    {
     "name": "stdout",
     "output_type": "stream",
     "text": [
      "<FreqDist with 122 samples and 321 outcomes>\n",
      "[('and', 13), ('a', 13), ('i', 10), ('it', 10), ('my', 8), ('now', 8), ('just', 6), ('kiss', 6), ('shes', 6), ('its', 6), ('me', 6), ('the', 6), ('all', 5), ('out', 4), ('of', 4), ('got', 4), ('ta', 4), ('up', 4), ('was', 4), ('only', 4), ('im', 4), ('calling', 4), ('taking', 4), ('is', 4), ('sick', 4), ('but', 4), ('never', 4), ('this', 3), ('in', 3), ('his', 3), ('coming', 2), ('cage', 2), ('ive', 2), ('been', 2), ('doing', 2), ('fine', 2), ('be', 2), ('down', 2), ('because', 2), ('want', 2), ('started', 2), ('with', 2), ('how', 2), ('did', 2), ('end', 2), ('like', 2), ('falling', 2), ('asleep', 2), ('cab', 2), ('while', 2), ('hes', 2), ('having', 2), ('smoke', 2), ('drag', 2), ('theyre', 2), ('going', 2), ('to', 2), ('bed', 2), ('stomach', 2), ('head', 2), ('touching', 2), ('chest', 2), ('he', 2), ('takes', 2), ('off', 2), ('her', 2), ('dress', 2), ('letting', 2), ('cant', 2), ('look', 2), ('killing', 2), ('control', 2), ('jealousy', 2), ('turning', 2), ('saints', 2), ('into', 2), ('sea', 2), ('swimming', 2), ('through', 2), ('lullabies', 2), ('choking', 2), ('on', 2), ('your', 2), ('price', 2), ('pay', 2), ('destiny', 2), ('open', 2), ('eager', 2), ('eyes', 2), ('cause', 2), ('mr', 2), ('go', 1), ('memory', 1), ('byamandah', 1), ('editor', 1), ('have', 1), ('you', 1), ('guys', 1), ('seen', 1), ('after', 1)]\n"
     ]
    }
   ],
   "source": [
    "data = nltk.word_tokenize(my_song)\n",
    "fdist=FreqDist(data)\n",
    "print(fdist)\n",
    "print(fdist.most_common(100))\n"
   ]
  },
  {
   "cell_type": "code",
   "execution_count": 14,
   "metadata": {},
   "outputs": [
    {
     "data": {
      "image/png": "[encoded data removed]",
      "text/plain": [
       "<matplotlib.figure.Figure at 0x7f077bc2e240>"
      ]
     },
     "metadata": {},
     "output_type": "display_data"
    }
   ],
   "source": [
    "# pd.DataFrame(fdist.most_common(100)).plot('bar')\n",
    "fdist.plot(50, cumulative=True)"
   ]
  },
  {
   "cell_type": "code",
   "execution_count": 15,
   "metadata": {},
   "outputs": [
    {
     "data": {
      "image/png": "[encoded data removed]",
      "text/plain": [
       "<matplotlib.figure.Figure at 0x7f077ba23588>"
      ]
     },
     "metadata": {},
     "output_type": "display_data"
    }
   ],
   "source": [
    "fdist.plot(30, cumulative=False)"
   ]
  },
  {
   "cell_type": "code",
   "execution_count": 16,
   "metadata": {},
   "outputs": [
    {
     "name": "stdout",
     "output_type": "stream",
     "text": [
      "['First Step in NLTK is tokenizer.', 'tokenizer means divide text data into tokens.', 'Here, token means single Entity that is split by any rule for example sentence from paragraph.']\n",
      "----------------------------------------------\n",
      "['First', 'Step', 'in', 'NLTK', 'is', 'tokenizer', '.', 'tokenizer', 'means', 'divide', 'text', 'data', 'into', 'tokens', '.', 'Here', ',', 'token', 'means', 'single', 'Entity', 'that', 'is', 'split', 'by', 'any', 'rule', 'for', 'example', 'sentence', 'from', 'paragraph', '.']\n"
     ]
    }
   ],
   "source": [
    "# Example : Tokenizer\n",
    "from nltk.tokenize import sent_tokenize, word_tokenize\n",
    "\n",
    "example_test = \"First Step in NLTK is tokenizer. tokenizer means divide text data \\\n",
    "into tokens. Here, token means single Entity that is split by any rule for example \\\n",
    "sentence from paragraph.\"\n",
    "\n",
    "print(sent_tokenize(example_test))\n",
    "print(\"----------------------------------------------\")\n",
    "print(word_tokenize(example_test))\n"
   ]
  },
  {
   "cell_type": "code",
   "execution_count": 17,
   "metadata": {},
   "outputs": [
    {
     "name": "stdout",
     "output_type": "stream",
     "text": [
      "[' coming out of my cage and ive been doing just fine gotta gotta be down because i want it all it started out with a kiss how did it end up like this it was only a kiss it was only a kiss now im falling asleep and shes calling a cab while hes having a smoke and shes taking a drag now theyre going to bed and my stomach is sick and its all in my head but shes touching his chest now he takes off her dress now letting me go    memory  byamandah   editor    have you guys seen this after the passing of an outstanding gent by the name of ger farmer foley in county kerry ireland his friends gathered at a pub and    see all   i just cant look its killing me and taking control jealousy turning saints into the sea swimming through sick lullabies choking on your alibis but its just the price i pay destiny is calling me open up my eager eyes cause im mr brightsideim coming out of my cage and ive been doing just fine gotta gotta be down because i want it all it started out with a kiss how did it end up like this it was only a kiss it was only a kiss now im falling asleep and shes calling a cab while hes having a smoke and shes taking a drag now theyre going to bed and my stomach is sick and its all in my head but shes touching his chest now he takes off her dress now letting me gocause i just cant look its killing me and taking control jealousy turning saints into the sea swimming through sick lullabies choking on your alibi but its just the price i pay destiny is calling me open up my eager eyes cause im mr brightside i never i never i never i never']\n",
      "----------------------------------------------\n",
      "['coming', 'out', 'of', 'my', 'cage', 'and', 'ive', 'been', 'doing', 'just', 'fine', 'got', 'ta', 'got', 'ta', 'be', 'down', 'because', 'i', 'want', 'it', 'all', 'it', 'started', 'out', 'with', 'a', 'kiss', 'how', 'did', 'it', 'end', 'up', 'like', 'this', 'it', 'was', 'only', 'a', 'kiss', 'it', 'was', 'only', 'a', 'kiss', 'now', 'im', 'falling', 'asleep', 'and', 'shes', 'calling', 'a', 'cab', 'while', 'hes', 'having', 'a', 'smoke', 'and', 'shes', 'taking', 'a', 'drag', 'now', 'theyre', 'going', 'to', 'bed', 'and', 'my', 'stomach', 'is', 'sick', 'and', 'its', 'all', 'in', 'my', 'head', 'but', 'shes', 'touching', 'his', 'chest', 'now', 'he', 'takes', 'off', 'her', 'dress', 'now', 'letting', 'me', 'go', 'memory', 'byamandah', 'editor', 'have', 'you', 'guys', 'seen', 'this', 'after', 'the', 'passing', 'of', 'an', 'outstanding', 'gent', 'by', 'the', 'name', 'of', 'ger', 'farmer', 'foley', 'in', 'county', 'kerry', 'ireland', 'his', 'friends', 'gathered', 'at', 'a', 'pub', 'and', 'see', 'all', 'i', 'just', 'cant', 'look', 'its', 'killing', 'me', 'and', 'taking', 'control', 'jealousy', 'turning', 'saints', 'into', 'the', 'sea', 'swimming', 'through', 'sick', 'lullabies', 'choking', 'on', 'your', 'alibis', 'but', 'its', 'just', 'the', 'price', 'i', 'pay', 'destiny', 'is', 'calling', 'me', 'open', 'up', 'my', 'eager', 'eyes', 'cause', 'im', 'mr', 'brightsideim', 'coming', 'out', 'of', 'my', 'cage', 'and', 'ive', 'been', 'doing', 'just', 'fine', 'got', 'ta', 'got', 'ta', 'be', 'down', 'because', 'i', 'want', 'it', 'all', 'it', 'started', 'out', 'with', 'a', 'kiss', 'how', 'did', 'it', 'end', 'up', 'like', 'this', 'it', 'was', 'only', 'a', 'kiss', 'it', 'was', 'only', 'a', 'kiss', 'now', 'im', 'falling', 'asleep', 'and', 'shes', 'calling', 'a', 'cab', 'while', 'hes', 'having', 'a', 'smoke', 'and', 'shes', 'taking', 'a', 'drag', 'now', 'theyre', 'going', 'to', 'bed', 'and', 'my', 'stomach', 'is', 'sick', 'and', 'its', 'all', 'in', 'my', 'head', 'but', 'shes', 'touching', 'his', 'chest', 'now', 'he', 'takes', 'off', 'her', 'dress', 'now', 'letting', 'me', 'gocause', 'i', 'just', 'cant', 'look', 'its', 'killing', 'me', 'and', 'taking', 'control', 'jealousy', 'turning', 'saints', 'into', 'the', 'sea', 'swimming', 'through', 'sick', 'lullabies', 'choking', 'on', 'your', 'alibi', 'but', 'its', 'just', 'the', 'price', 'i', 'pay', 'destiny', 'is', 'calling', 'me', 'open', 'up', 'my', 'eager', 'eyes', 'cause', 'im', 'mr', 'brightside', 'i', 'never', 'i', 'never', 'i', 'never', 'i', 'never']\n"
     ]
    }
   ],
   "source": [
    "from nltk.tokenize import sent_tokenize, word_tokenize\n",
    "\n",
    "print(sent_tokenize(my_song))  # I don't have good results here because the lyrics \n",
    "\n",
    "print(\"----------------------------------------------\")\n",
    "print(word_tokenize(my_song))\n"
   ]
  },
  {
   "cell_type": "code",
   "execution_count": 18,
   "metadata": {},
   "outputs": [
    {
     "name": "stdout",
     "output_type": "stream",
     "text": [
      "[['coming', 'cage', 'ive', 'fine', 'got', 'ta', 'got', 'ta', 'want', 'started', 'kiss', 'end', 'like', 'kiss', 'kiss', 'im', 'falling', 'asleep', 'shes', 'calling', 'cab', 'hes', 'smoke', 'shes', 'taking', 'drag', 'theyre', 'going', 'bed', 'stomach', 'sick', 'head', 'shes', 'touching', 'chest', 'takes', 'dress', 'letting', 'go', 'memory', 'byamandah', 'editor', 'guys', 'seen', 'passing', 'outstanding', 'gent', 'name', 'ger', 'farmer', 'foley', 'county', 'kerry', 'ireland', 'friends', 'gathered', 'pub', 'see', 'cant', 'look', 'killing', 'taking', 'control', 'jealousy', 'turning', 'saints', 'sea', 'swimming', 'sick', 'lullabies', 'choking', 'alibis', 'price', 'pay', 'destiny', 'calling', 'open', 'eager', 'eyes', 'cause', 'im', 'mr', 'brightsideim', 'coming', 'cage', 'ive', 'fine', 'got', 'ta', 'got', 'ta', 'want', 'started', 'kiss', 'end', 'like', 'kiss', 'kiss', 'im', 'falling', 'asleep', 'shes', 'calling', 'cab', 'hes', 'smoke', 'shes', 'taking', 'drag', 'theyre', 'going', 'bed', 'stomach', 'sick', 'head', 'shes', 'touching', 'chest', 'takes', 'dress', 'letting', 'gocause', 'cant', 'look', 'killing', 'taking', 'control', 'jealousy', 'turning', 'saints', 'sea', 'swimming', 'sick', 'lullabies', 'choking', 'alibi', 'price', 'pay', 'destiny', 'calling', 'open', 'eager', 'eyes', 'cause', 'im', 'mr', 'brightside', 'never', 'never', 'never', 'never']]\n"
     ]
    }
   ],
   "source": [
    "# Removing Stop Words \n",
    "from nltk.corpus import stopwords\n",
    "from nltk.tokenize import word_tokenize\n",
    "\n",
    "\n",
    "stop_words = set(stopwords.words(\"english\"))\n",
    "# print(stop_words)\n",
    "\n",
    "words = word_tokenize(my_song)\n",
    "filter_sentence = []\n",
    "filter_sentence.append([w for w in words if w not in stop_words])\n",
    "print(filter_sentence)"
   ]
  },
  {
   "cell_type": "code",
   "execution_count": 32,
   "metadata": {},
   "outputs": [],
   "source": [
    "# Lematization \n",
    "\n",
    "from nltk.stem import PorterStemmer\n",
    "from nltk.tokenize import word_tokenize\n",
    "ps = PorterStemmer()\n",
    "\n",
    "# exa = word_tokenize(filter_sentence)\n",
    "stem_sentence = []\n",
    "for w in filter_sentence[0]:\n",
    "    stemText = ps.stem(w)\n",
    "    stem_sentence.append(stemText)\n"
   ]
  },
  {
   "cell_type": "code",
   "execution_count": 38,
   "metadata": {},
   "outputs": [
    {
     "data": {
      "text/plain": [
       "<matplotlib.axes._subplots.AxesSubplot at 0x7f077a8fde10>"
      ]
     },
     "execution_count": 38,
     "metadata": {},
     "output_type": "execute_result"
    },
    {
     "data": {
      "image/png": "[encoded data removed]",
      "text/plain": [
       "<matplotlib.figure.Figure at 0x7f077b576940>"
      ]
     },
     "metadata": {},
     "output_type": "display_data"
    }
   ],
   "source": [
    "mostCommonPhrases = pd.DataFrame(stem_sentence, columns=['words'])\n",
    "mostCommonPhrases['words'].value_counts()[:40].plot('bar')"
   ]
  },
  {
   "cell_type": "code",
   "execution_count": 41,
   "metadata": {},
   "outputs": [],
   "source": []
  },
  {
   "cell_type": "code",
   "execution_count": 51,
   "metadata": {},
   "outputs": [
    {
     "data": {
      "text/plain": [
       "['Moni', 'Anita', 'Nathaly', 'Ori', 'Rodri']"
      ]
     },
     "execution_count": 51,
     "metadata": {},
     "output_type": "execute_result"
    }
   ],
   "source": [
    "import random\n",
    "people = ['Ori', 'Anita', 'Rodri', 'Moni', 'Nathaly']\n",
    "random.sample(people, 5)"
   ]
  },
  {
   "cell_type": "code",
   "execution_count": null,
   "metadata": {},
   "outputs": [],
   "source": []
  }
 ],
 "metadata": {
  "kernelspec": {
   "display_name": "Python 3",
   "language": "python",
   "name": "python3"
  },
  "language_info": {
   "codemirror_mode": {
    "name": "ipython",
    "version": 3
   },
   "file_extension": ".py",
   "mimetype": "text/x-python",
   "name": "python",
   "nbconvert_exporter": "python",
   "pygments_lexer": "ipython3",
   "version": "3.6.4"
  }
 },
 "nbformat": 4,
 "nbformat_minor": 2
}
